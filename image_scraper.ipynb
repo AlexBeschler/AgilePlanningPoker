{
 "cells": [
  {
   "cell_type": "code",
   "execution_count": 10,
   "metadata": {},
   "outputs": [
    {
     "name": "stdout",
     "output_type": "stream",
     "text": [
      "Saved Alligator.png\n",
      "Saved Anteater.png\n",
      "Saved Armadillo.png\n",
      "Saved Auroch.png\n",
      "Saved Axolotl.png\n",
      "Saved Badger.png\n",
      "Saved Bat.png\n",
      "Saved Beaver.png\n",
      "Saved Buffalo.png\n",
      "Saved Camel.png\n",
      "Saved Capybara.png\n",
      "Saved Chameleon.png\n",
      "Saved Cheetah.png\n",
      "Saved Chinchilla.png\n",
      "Saved Chipmunk.png\n",
      "Saved Chupacabra.png\n",
      "Saved Cormorant.png\n",
      "Saved Coyote.png\n",
      "Saved Crow.png\n",
      "Saved Dingo.png\n",
      "Saved Dinosaur.png\n",
      "Saved Dolphin.png\n",
      "Saved Duck.png\n",
      "Saved Elephant.png\n",
      "Saved Ferret.png\n",
      "Saved Fox.png\n",
      "Saved Frog.png\n",
      "Saved Giraffe.png\n",
      "Saved Gopher.png\n",
      "Saved Grizzly.png\n",
      "Saved Hedgehog.png\n",
      "Saved Hippo.png\n",
      "Saved Hyena.png\n",
      "Saved Ibex.png\n",
      "Saved Ifrit.png\n",
      "Saved Iguana.png\n",
      "Saved Jackal.png\n",
      "Saved Kangaroo.png\n",
      "Saved Koala.png\n",
      "Saved Kraken.png\n",
      "Saved Lemur.png\n",
      "Saved Leopard.png\n",
      "Saved Liger.png\n",
      "Saved Llama.png\n",
      "Saved Manatee.png\n",
      "Saved Mink.png\n",
      "Saved Monkey.png\n",
      "Saved Moose.png\n",
      "Saved Narwhal.png\n",
      "Saved Nyan%20Cat.png\n",
      "Saved Orangutan.png\n",
      "Saved Otter.png\n",
      "Saved Panda.png\n",
      "Saved Penguin.png\n",
      "Saved Platypus.png\n",
      "Saved Pumpkin.png\n",
      "Saved Python.png\n",
      "Saved Quagga.png\n",
      "Saved Rabbit.png\n",
      "Saved Raccoon.png\n",
      "Saved Rhino.png\n",
      "Saved Sheep.png\n",
      "Saved Shrew.png\n",
      "Saved Skunk.png\n",
      "Saved Squirrel.png\n",
      "Saved Tiger.png\n",
      "Saved Turtle.png\n",
      "Saved Walrus.png\n",
      "Saved Wolf.png\n",
      "Saved Wolverine.png\n",
      "Saved Wombat.png\n"
     ]
    }
   ],
   "source": [
    "from urllib import request\n",
    "from bs4 import BeautifulSoup as Soup, Tag\n",
    "\n",
    "url = 'https://wayou.github.io/anonymous-animals/'\n",
    "\n",
    "save_location = 'E:\\\\Visual Studio Code Projects\\\\Agile Planning Poker\\\\public\\\\assets\\\\avatars\\\\'\n",
    "\n",
    "response = request.urlopen(url)\n",
    "page_source = response.read().decode('utf-8')\n",
    "soup = Soup(page_source)\n",
    "animal_list = soup.find_all('img')\n",
    "for img in animal_list:\n",
    "    filename = str(img['src']).split('/')[1].replace(' ','%20')\n",
    "    request.urlretrieve('https://wayou.github.io/anonymous-animals/' + 'icons/' + filename, save_location + filename)\n",
    "    print('Saved ' + filename)"
   ]
  }
 ],
 "metadata": {
  "kernelspec": {
   "display_name": "Python 3.10.6 64-bit",
   "language": "python",
   "name": "python3"
  },
  "language_info": {
   "codemirror_mode": {
    "name": "ipython",
    "version": 3
   },
   "file_extension": ".py",
   "mimetype": "text/x-python",
   "name": "python",
   "nbconvert_exporter": "python",
   "pygments_lexer": "ipython3",
   "version": "3.10.6"
  },
  "orig_nbformat": 4,
  "vscode": {
   "interpreter": {
    "hash": "369f2c481f4da34e4445cda3fffd2e751bd1c4d706f27375911949ba6bb62e1c"
   }
  }
 },
 "nbformat": 4,
 "nbformat_minor": 2
}
